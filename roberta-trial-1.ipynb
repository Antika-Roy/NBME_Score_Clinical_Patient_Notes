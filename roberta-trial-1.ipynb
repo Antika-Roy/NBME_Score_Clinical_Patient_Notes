{
 "cells": [
  {
   "cell_type": "markdown",
   "id": "e8c1eef3",
   "metadata": {
    "papermill": {
     "duration": 0.030542,
     "end_time": "2022-04-16T17:13:06.115022",
     "exception": false,
     "start_time": "2022-04-16T17:13:06.084480",
     "status": "completed"
    },
    "tags": []
   },
   "source": [
    "# Roberta Strikes Back !\n",
    "\n",
    "This notebook demonstates that you can reach decent performances with Roberta, if you process predictions correctly.\n",
    "\n",
    "The training procedure will not be shared as it would most likely destroy the leaderboard."
   ]
  },
  {
   "cell_type": "markdown",
   "id": "a7a77ebc",
   "metadata": {
    "papermill": {
     "duration": 0.028325,
     "end_time": "2022-04-16T17:13:06.173935",
     "exception": false,
     "start_time": "2022-04-16T17:13:06.145610",
     "status": "completed"
    },
    "tags": []
   },
   "source": [
    "# Initialization"
   ]
  },
  {
   "cell_type": "markdown",
   "id": "d199d259",
   "metadata": {
    "papermill": {
     "duration": 0.028255,
     "end_time": "2022-04-16T17:13:06.233083",
     "exception": false,
     "start_time": "2022-04-16T17:13:06.204828",
     "status": "completed"
    },
    "tags": []
   },
   "source": [
    "### Imports"
   ]
  },
  {
   "cell_type": "code",
   "execution_count": 1,
   "id": "c7173b70",
   "metadata": {
    "_kg_hide-input": true,
    "execution": {
     "iopub.execute_input": "2022-04-16T17:13:06.301064Z",
     "iopub.status.busy": "2022-04-16T17:13:06.300167Z",
     "iopub.status.idle": "2022-04-16T17:13:06.360864Z",
     "shell.execute_reply": "2022-04-16T17:13:06.359874Z",
     "shell.execute_reply.started": "2022-04-16T17:09:18.777045Z"
    },
    "papermill": {
     "duration": 0.099493,
     "end_time": "2022-04-16T17:13:06.361001",
     "exception": false,
     "start_time": "2022-04-16T17:13:06.261508",
     "status": "completed"
    },
    "tags": []
   },
   "outputs": [],
   "source": [
    "import os\n",
    "import re\n",
    "import ast\n",
    "import json\n",
    "import glob\n",
    "import numpy as np\n",
    "import pandas as pd\n",
    "from tqdm.notebook import tqdm\n",
    "\n",
    "os.environ[\"TOKENIZERS_PARALLELISM\"] = \"false\""
   ]
  },
  {
   "cell_type": "markdown",
   "id": "7ed0ae1b",
   "metadata": {
    "papermill": {
     "duration": 0.029211,
     "end_time": "2022-04-16T17:13:06.419469",
     "exception": false,
     "start_time": "2022-04-16T17:13:06.390258",
     "status": "completed"
    },
    "tags": []
   },
   "source": [
    "### Paths"
   ]
  },
  {
   "cell_type": "code",
   "execution_count": 2,
   "id": "0caaa628",
   "metadata": {
    "_kg_hide-input": true,
    "execution": {
     "iopub.execute_input": "2022-04-16T17:13:06.481299Z",
     "iopub.status.busy": "2022-04-16T17:13:06.480522Z",
     "iopub.status.idle": "2022-04-16T17:13:06.483850Z",
     "shell.execute_reply": "2022-04-16T17:13:06.483446Z",
     "shell.execute_reply.started": "2022-04-16T17:09:18.860157Z"
    },
    "papermill": {
     "duration": 0.035872,
     "end_time": "2022-04-16T17:13:06.483958",
     "exception": false,
     "start_time": "2022-04-16T17:13:06.448086",
     "status": "completed"
    },
    "tags": []
   },
   "outputs": [],
   "source": [
    "DATA_PATH = \"../input/nbme-score-clinical-patient-notes/\"\n",
    "OUT_PATH = \"../input/nbme-roberta-large/\"\n",
    "WEIGHTS_FOLDER = \"../input/nbme-roberta-large/\"\n",
    "\n",
    "NUM_WORKERS = 2"
   ]
  },
  {
   "cell_type": "markdown",
   "id": "c4442abf",
   "metadata": {
    "papermill": {
     "duration": 0.042449,
     "end_time": "2022-04-16T17:13:06.574996",
     "exception": false,
     "start_time": "2022-04-16T17:13:06.532547",
     "status": "completed"
    },
    "tags": []
   },
   "source": [
    "# Data"
   ]
  },
  {
   "cell_type": "markdown",
   "id": "1e854dad",
   "metadata": {
    "papermill": {
     "duration": 0.028253,
     "end_time": "2022-04-16T17:13:06.633614",
     "exception": false,
     "start_time": "2022-04-16T17:13:06.605361",
     "status": "completed"
    },
    "tags": []
   },
   "source": [
    "## Preparation"
   ]
  },
  {
   "cell_type": "code",
   "execution_count": 3,
   "id": "bd5ba53e",
   "metadata": {
    "_kg_hide-input": true,
    "execution": {
     "iopub.execute_input": "2022-04-16T17:13:06.700178Z",
     "iopub.status.busy": "2022-04-16T17:13:06.699422Z",
     "iopub.status.idle": "2022-04-16T17:13:06.701922Z",
     "shell.execute_reply": "2022-04-16T17:13:06.701517Z",
     "shell.execute_reply.started": "2022-04-16T17:09:18.865942Z"
    },
    "papermill": {
     "duration": 0.03987,
     "end_time": "2022-04-16T17:13:06.702033",
     "exception": false,
     "start_time": "2022-04-16T17:13:06.662163",
     "status": "completed"
    },
    "tags": []
   },
   "outputs": [],
   "source": [
    "def process_feature_text(text):\n",
    "    text = re.sub('I-year', '1-year', text)\n",
    "    text = re.sub('-OR-', \" or \", text)\n",
    "    text = re.sub('-', ' ', text)\n",
    "    return text\n",
    "\n",
    "\n",
    "def clean_spaces(txt):\n",
    "    txt = re.sub('\\n', ' ', txt)\n",
    "    txt = re.sub('\\t', ' ', txt)\n",
    "    txt = re.sub('\\r', ' ', txt)\n",
    "#     txt = re.sub(r'\\s+', ' ', txt)\n",
    "    return txt\n",
    "\n",
    "\n",
    "def load_and_prepare_test(root=\"\"):\n",
    "    patient_notes = pd.read_csv(root + \"patient_notes.csv\")\n",
    "    features = pd.read_csv(root + \"features.csv\")\n",
    "    df = pd.read_csv(root + \"test.csv\")\n",
    "\n",
    "    df = df.merge(features, how=\"left\", on=[\"case_num\", \"feature_num\"])\n",
    "    df = df.merge(patient_notes, how=\"left\", on=['case_num', 'pn_num'])\n",
    "\n",
    "    df['pn_history'] = df['pn_history'].apply(lambda x: x.strip())\n",
    "    df['feature_text'] = df['feature_text'].apply(process_feature_text)\n",
    "\n",
    "    df['feature_text'] = df['feature_text'].apply(clean_spaces)\n",
    "    df['clean_text'] = df['pn_history'].apply(clean_spaces)\n",
    "\n",
    "    df['target'] = \"\"\n",
    "    return df"
   ]
  },
  {
   "cell_type": "markdown",
   "id": "773fadf8",
   "metadata": {
    "papermill": {
     "duration": 0.028233,
     "end_time": "2022-04-16T17:13:06.758714",
     "exception": false,
     "start_time": "2022-04-16T17:13:06.730481",
     "status": "completed"
    },
    "tags": []
   },
   "source": [
    "### Processing"
   ]
  },
  {
   "cell_type": "code",
   "execution_count": 4,
   "id": "3dfa8c0d",
   "metadata": {
    "_kg_hide-input": true,
    "execution": {
     "iopub.execute_input": "2022-04-16T17:13:06.828908Z",
     "iopub.status.busy": "2022-04-16T17:13:06.828096Z",
     "iopub.status.idle": "2022-04-16T17:13:06.830081Z",
     "shell.execute_reply": "2022-04-16T17:13:06.830506Z",
     "shell.execute_reply.started": "2022-04-16T17:09:18.882937Z"
    },
    "papermill": {
     "duration": 0.043281,
     "end_time": "2022-04-16T17:13:06.830632",
     "exception": false,
     "start_time": "2022-04-16T17:13:06.787351",
     "status": "completed"
    },
    "tags": []
   },
   "outputs": [],
   "source": [
    "import itertools\n",
    "\n",
    "\n",
    "def token_pred_to_char_pred(token_pred, offsets):\n",
    "    char_pred = np.zeros((np.max(offsets), token_pred.shape[1]))\n",
    "    for i in range(len(token_pred)):\n",
    "        s, e = int(offsets[i][0]), int(offsets[i][1])  # start, end\n",
    "        char_pred[s:e] = token_pred[i]\n",
    "\n",
    "        if token_pred.shape[1] == 3:  # following characters cannot be tagged as start\n",
    "            s += 1\n",
    "            char_pred[s: e, 1], char_pred[s: e, 2] = (\n",
    "                np.max(char_pred[s: e, 1:], 1),\n",
    "                np.min(char_pred[s: e, 1:], 1),\n",
    "            )\n",
    "\n",
    "    return char_pred\n",
    "\n",
    "\n",
    "def labels_to_sub(labels):\n",
    "    all_spans = []\n",
    "    for label in labels:\n",
    "        indices = np.where(label > 0)[0]\n",
    "        indices_grouped = [\n",
    "            list(g) for _, g in itertools.groupby(\n",
    "                indices, key=lambda n, c=itertools.count(): n - next(c)\n",
    "            )\n",
    "        ]\n",
    "\n",
    "        spans = [f\"{min(r)} {max(r) + 1}\" for r in indices_grouped]\n",
    "        all_spans.append(\";\".join(spans))\n",
    "    return all_spans\n",
    "\n",
    "\n",
    "def char_target_to_span(char_target):\n",
    "    spans = []\n",
    "    start, end = 0, 0\n",
    "    for i in range(len(char_target)):\n",
    "        if char_target[i] == 1 and char_target[i - 1] == 0:\n",
    "            if end:\n",
    "                spans.append([start, end])\n",
    "            start = i\n",
    "            end = i + 1\n",
    "        elif char_target[i] == 1:\n",
    "            end = i + 1\n",
    "        else:\n",
    "            if end:\n",
    "                spans.append([start, end])\n",
    "            start, end = 0, 0\n",
    "    return spans"
   ]
  },
  {
   "cell_type": "markdown",
   "id": "e05fcbb9",
   "metadata": {
    "papermill": {
     "duration": 0.028357,
     "end_time": "2022-04-16T17:13:06.887744",
     "exception": false,
     "start_time": "2022-04-16T17:13:06.859387",
     "status": "completed"
    },
    "tags": []
   },
   "source": [
    "## Tokenization"
   ]
  },
  {
   "cell_type": "code",
   "execution_count": 5,
   "id": "09038873",
   "metadata": {
    "_kg_hide-input": true,
    "execution": {
     "iopub.execute_input": "2022-04-16T17:13:06.980232Z",
     "iopub.status.busy": "2022-04-16T17:13:06.979337Z",
     "iopub.status.idle": "2022-04-16T17:13:08.816955Z",
     "shell.execute_reply": "2022-04-16T17:13:08.818364Z",
     "shell.execute_reply.started": "2022-04-16T17:09:18.897536Z"
    },
    "papermill": {
     "duration": 1.892102,
     "end_time": "2022-04-16T17:13:08.818623",
     "exception": false,
     "start_time": "2022-04-16T17:13:06.926521",
     "status": "completed"
    },
    "tags": []
   },
   "outputs": [],
   "source": [
    "import numpy as np\n",
    "from transformers import AutoTokenizer\n",
    "\n",
    "\n",
    "def get_tokenizer(name, precompute=False, df=None, folder=None):\n",
    "    if folder is None:\n",
    "        tokenizer = AutoTokenizer.from_pretrained(name)\n",
    "    else:\n",
    "        tokenizer = AutoTokenizer.from_pretrained(folder)\n",
    "\n",
    "    tokenizer.name = name\n",
    "    tokenizer.special_tokens = {\n",
    "        \"sep\": tokenizer.sep_token_id,\n",
    "        \"cls\": tokenizer.cls_token_id,\n",
    "        \"pad\": tokenizer.pad_token_id,\n",
    "    }\n",
    "\n",
    "    if precompute:\n",
    "        tokenizer.precomputed = precompute_tokens(df, tokenizer)\n",
    "    else:\n",
    "        tokenizer.precomputed = None\n",
    "\n",
    "    return tokenizer\n",
    "\n",
    "\n",
    "def precompute_tokens(df, tokenizer):\n",
    "    feature_texts = df[\"feature_text\"].unique()\n",
    "\n",
    "    ids = {}\n",
    "    offsets = {}\n",
    "\n",
    "    for feature_text in feature_texts:\n",
    "        encoding = tokenizer(\n",
    "            feature_text,\n",
    "            return_token_type_ids=True,\n",
    "            return_offsets_mapping=True,\n",
    "            return_attention_mask=False,\n",
    "            add_special_tokens=False,\n",
    "        )\n",
    "        ids[feature_text] = encoding[\"input_ids\"]\n",
    "        offsets[feature_text] = encoding[\"offset_mapping\"]\n",
    "\n",
    "    texts = df[\"clean_text\"].unique()\n",
    "\n",
    "    for text in texts:\n",
    "        encoding = tokenizer(\n",
    "            text,\n",
    "            return_token_type_ids=True,\n",
    "            return_offsets_mapping=True,\n",
    "            return_attention_mask=False,\n",
    "            add_special_tokens=False,\n",
    "        )\n",
    "        ids[text] = encoding[\"input_ids\"]\n",
    "        offsets[text] = encoding[\"offset_mapping\"]\n",
    "\n",
    "    return {\"ids\": ids, \"offsets\": offsets}\n",
    "\n",
    "\n",
    "def encodings_from_precomputed(feature_text, text, precomputed, tokenizer, max_len=300):\n",
    "    tokens = tokenizer.special_tokens\n",
    "\n",
    "    # Input ids\n",
    "    if \"roberta\" in tokenizer.name:\n",
    "        qa_sep = [tokens[\"sep\"], tokens[\"sep\"]]\n",
    "    else:\n",
    "        qa_sep = [tokens[\"sep\"]]\n",
    "\n",
    "    input_ids = [tokens[\"cls\"]] + precomputed[\"ids\"][feature_text] + qa_sep\n",
    "    n_question_tokens = len(input_ids)\n",
    "\n",
    "    input_ids += precomputed[\"ids\"][text]\n",
    "    input_ids = input_ids[: max_len - 1] + [tokens[\"sep\"]]\n",
    "\n",
    "    # Token type ids\n",
    "    if \"roberta\" not in tokenizer.name:\n",
    "        token_type_ids = np.ones(len(input_ids))\n",
    "        token_type_ids[:n_question_tokens] = 0\n",
    "        token_type_ids = token_type_ids.tolist()\n",
    "    else:\n",
    "        token_type_ids = [0] * len(input_ids)\n",
    "\n",
    "    # Offsets\n",
    "    offsets = [(0, 0)] * n_question_tokens + precomputed[\"offsets\"][text]\n",
    "    offsets = offsets[: max_len - 1] + [(0, 0)]\n",
    "\n",
    "    # Padding\n",
    "    padding_length = max_len - len(input_ids)\n",
    "    if padding_length > 0:\n",
    "        input_ids = input_ids + ([tokens[\"pad\"]] * padding_length)\n",
    "        token_type_ids = token_type_ids + ([0] * padding_length)\n",
    "        offsets = offsets + ([(0, 0)] * padding_length)\n",
    "\n",
    "    encoding = {\n",
    "        \"input_ids\": input_ids,\n",
    "        \"token_type_ids\": token_type_ids,\n",
    "        \"offset_mapping\": offsets,\n",
    "    }\n",
    "\n",
    "    return encoding\n"
   ]
  },
  {
   "cell_type": "markdown",
   "id": "4af9c319",
   "metadata": {
    "papermill": {
     "duration": 0.052137,
     "end_time": "2022-04-16T17:13:08.921438",
     "exception": false,
     "start_time": "2022-04-16T17:13:08.869301",
     "status": "completed"
    },
    "tags": []
   },
   "source": [
    "## Dataset"
   ]
  },
  {
   "cell_type": "code",
   "execution_count": 6,
   "id": "21d391a8",
   "metadata": {
    "_kg_hide-input": true,
    "execution": {
     "iopub.execute_input": "2022-04-16T17:13:09.022552Z",
     "iopub.status.busy": "2022-04-16T17:13:09.021571Z",
     "iopub.status.idle": "2022-04-16T17:13:09.023452Z",
     "shell.execute_reply": "2022-04-16T17:13:09.023996Z",
     "shell.execute_reply.started": "2022-04-16T17:09:20.506533Z"
    },
    "papermill": {
     "duration": 0.051199,
     "end_time": "2022-04-16T17:13:09.024161",
     "exception": false,
     "start_time": "2022-04-16T17:13:08.972962",
     "status": "completed"
    },
    "tags": []
   },
   "outputs": [],
   "source": [
    "import torch\n",
    "import numpy as np\n",
    "from torch.utils.data import Dataset\n",
    "\n",
    "\n",
    "class PatientNoteDataset(Dataset):\n",
    "    def __init__(self, df, tokenizer, max_len):\n",
    "        self.df = df\n",
    "        self.max_len = max_len\n",
    "        self.tokenizer = tokenizer\n",
    "\n",
    "        self.texts = df['clean_text'].values\n",
    "        self.feature_text = df['feature_text'].values\n",
    "        self.char_targets = df['target'].values.tolist()\n",
    "\n",
    "    def __getitem__(self, idx):\n",
    "        text = self.texts[idx]\n",
    "        feature_text = self.feature_text[idx]\n",
    "        char_target = self.char_targets[idx]\n",
    "\n",
    "        # Tokenize\n",
    "        if self.tokenizer.precomputed is None:\n",
    "            encoding = self.tokenizer(\n",
    "                feature_text,\n",
    "                text,\n",
    "                return_token_type_ids=True,\n",
    "                return_offsets_mapping=True,\n",
    "                return_attention_mask=False,\n",
    "                truncation=\"only_second\",\n",
    "                max_length=self.max_len,\n",
    "                padding='max_length',\n",
    "            )\n",
    "            raise NotImplementedError(\"fix issues with question offsets\")\n",
    "        else:\n",
    "            encoding = encodings_from_precomputed(\n",
    "                feature_text,\n",
    "                text,\n",
    "                self.tokenizer.precomputed,\n",
    "                self.tokenizer,\n",
    "                max_len=self.max_len\n",
    "            )\n",
    "\n",
    "        return {\n",
    "            \"ids\": torch.tensor(encoding[\"input_ids\"], dtype=torch.long),\n",
    "            \"token_type_ids\": torch.tensor(encoding[\"token_type_ids\"], dtype=torch.long),\n",
    "            \"target\": torch.tensor([0], dtype=torch.float),\n",
    "            \"offsets\": np.array(encoding[\"offset_mapping\"]),\n",
    "            \"text\": text,\n",
    "        }\n",
    "\n",
    "    def __len__(self):\n",
    "        return len(self.texts)\n"
   ]
  },
  {
   "cell_type": "markdown",
   "id": "6f311d98",
   "metadata": {
    "papermill": {
     "duration": 0.031524,
     "end_time": "2022-04-16T17:13:09.088532",
     "exception": false,
     "start_time": "2022-04-16T17:13:09.057008",
     "status": "completed"
    },
    "tags": []
   },
   "source": [
    "### Plot predictions"
   ]
  },
  {
   "cell_type": "code",
   "execution_count": 7,
   "id": "e456f2a0",
   "metadata": {
    "_kg_hide-input": true,
    "execution": {
     "iopub.execute_input": "2022-04-16T17:13:09.159882Z",
     "iopub.status.busy": "2022-04-16T17:13:09.157108Z",
     "iopub.status.idle": "2022-04-16T17:13:18.514377Z",
     "shell.execute_reply": "2022-04-16T17:13:18.513688Z",
     "shell.execute_reply.started": "2022-04-16T17:09:20.519144Z"
    },
    "papermill": {
     "duration": 9.394431,
     "end_time": "2022-04-16T17:13:18.514518",
     "exception": false,
     "start_time": "2022-04-16T17:13:09.120087",
     "status": "completed"
    },
    "tags": []
   },
   "outputs": [],
   "source": [
    "import spacy\n",
    "import numpy as np\n",
    "\n",
    "def plot_annotation(df, pn_num):\n",
    "    options = {\"colors\": {}}\n",
    "\n",
    "    df_text = df[df[\"pn_num\"] == pn_num].reset_index(drop=True)\n",
    "\n",
    "    text = df_text[\"pn_history\"][0]\n",
    "    ents = []\n",
    "\n",
    "    for spans, feature_text, feature_num in df_text[[\"span\", \"feature_text\", \"feature_num\"]].values:\n",
    "        for s in spans:\n",
    "            ents.append({\"start\": int(s[0]), \"end\": int(s[1]), \"label\": feature_text})\n",
    "\n",
    "        options[\"colors\"][feature_text] =  f\"rgb{tuple(np.random.randint(100, 255, size=3))}\"\n",
    "\n",
    "    doc = {\"text\": text, \"ents\": sorted(ents, key=lambda i: i[\"start\"])}\n",
    "\n",
    "    spacy.displacy.render(doc, style=\"ent\", options=options, manual=True, jupyter=True)"
   ]
  },
  {
   "cell_type": "markdown",
   "id": "62221bf5",
   "metadata": {
    "papermill": {
     "duration": 0.032397,
     "end_time": "2022-04-16T17:13:18.579287",
     "exception": false,
     "start_time": "2022-04-16T17:13:18.546890",
     "status": "completed"
    },
    "tags": []
   },
   "source": [
    "# Model"
   ]
  },
  {
   "cell_type": "code",
   "execution_count": 8,
   "id": "5666de7d",
   "metadata": {
    "_kg_hide-input": true,
    "execution": {
     "iopub.execute_input": "2022-04-16T17:13:18.653949Z",
     "iopub.status.busy": "2022-04-16T17:13:18.653293Z",
     "iopub.status.idle": "2022-04-16T17:13:18.662168Z",
     "shell.execute_reply": "2022-04-16T17:13:18.661734Z",
     "shell.execute_reply.started": "2022-04-16T17:09:29.706354Z"
    },
    "papermill": {
     "duration": 0.05065,
     "end_time": "2022-04-16T17:13:18.662290",
     "exception": false,
     "start_time": "2022-04-16T17:13:18.611640",
     "status": "completed"
    },
    "tags": []
   },
   "outputs": [],
   "source": [
    "import torch\n",
    "import transformers\n",
    "import torch.nn as nn\n",
    "from transformers import AutoConfig, AutoModel\n",
    "\n",
    "\n",
    "class NERTransformer(nn.Module):\n",
    "    def __init__(\n",
    "        self,\n",
    "        model,\n",
    "        num_classes=1,\n",
    "        config_file=None,\n",
    "        pretrained=True,\n",
    "    ):\n",
    "        super().__init__()\n",
    "        self.name = model\n",
    "        self.pad_idx = 1 if \"roberta\" in self.name else 0\n",
    "\n",
    "        transformers.logging.set_verbosity_error()\n",
    "\n",
    "        if config_file is None:\n",
    "            config = AutoConfig.from_pretrained(model, output_hidden_states=True)\n",
    "        else:\n",
    "            config = torch.load(config_file)\n",
    "\n",
    "        if pretrained:\n",
    "            self.transformer = AutoModel.from_pretrained(model, config=config)\n",
    "        else:\n",
    "            self.transformer = AutoModel.from_config(config)\n",
    "\n",
    "        self.nb_features = config.hidden_size\n",
    "\n",
    "#         self.cnn = nn.Identity()\n",
    "        self.logits = nn.Linear(self.nb_features, num_classes)\n",
    "\n",
    "    def forward(self, tokens, token_type_ids):\n",
    "        \"\"\"\n",
    "        Usual torch forward function\n",
    "\n",
    "        Arguments:\n",
    "            tokens {torch tensor} -- Sentence tokens\n",
    "            token_type_ids {torch tensor} -- Sentence tokens ids\n",
    "        \"\"\"\n",
    "        hidden_states = self.transformer(\n",
    "            tokens,\n",
    "            attention_mask=(tokens != self.pad_idx).long(),\n",
    "            token_type_ids=token_type_ids,\n",
    "        )[-1]\n",
    "\n",
    "        features = hidden_states[-1]\n",
    "\n",
    "        logits = self.logits(features)\n",
    "\n",
    "        return logits"
   ]
  },
  {
   "cell_type": "markdown",
   "id": "264cc5b0",
   "metadata": {
    "papermill": {
     "duration": 0.028695,
     "end_time": "2022-04-16T17:13:18.719601",
     "exception": false,
     "start_time": "2022-04-16T17:13:18.690906",
     "status": "completed"
    },
    "tags": []
   },
   "source": [
    "# Inference"
   ]
  },
  {
   "cell_type": "markdown",
   "id": "bba05ce0",
   "metadata": {
    "papermill": {
     "duration": 0.032795,
     "end_time": "2022-04-16T17:13:18.783087",
     "exception": false,
     "start_time": "2022-04-16T17:13:18.750292",
     "status": "completed"
    },
    "tags": []
   },
   "source": [
    "## Loads weights"
   ]
  },
  {
   "cell_type": "code",
   "execution_count": 9,
   "id": "4997febf",
   "metadata": {
    "_kg_hide-input": true,
    "execution": {
     "iopub.execute_input": "2022-04-16T17:13:18.856533Z",
     "iopub.status.busy": "2022-04-16T17:13:18.855705Z",
     "iopub.status.idle": "2022-04-16T17:13:18.858052Z",
     "shell.execute_reply": "2022-04-16T17:13:18.857633Z",
     "shell.execute_reply.started": "2022-04-16T17:09:29.727289Z"
    },
    "papermill": {
     "duration": 0.041187,
     "end_time": "2022-04-16T17:13:18.858173",
     "exception": false,
     "start_time": "2022-04-16T17:13:18.816986",
     "status": "completed"
    },
    "tags": []
   },
   "outputs": [],
   "source": [
    "import torch\n",
    "\n",
    "def load_model_weights(model, filename, verbose=1, cp_folder=\"\", strict=True):\n",
    "    \"\"\"\n",
    "    Loads the weights of a PyTorch model. The exception handles cpu/gpu incompatibilities.\n",
    "\n",
    "    Args:\n",
    "        model (torch model): Model to load the weights to.\n",
    "        filename (str): Name of the checkpoint.\n",
    "        verbose (int, optional): Whether to display infos. Defaults to 1.\n",
    "        cp_folder (str, optional): Folder to load from. Defaults to \"\".\n",
    "        strict (bool, optional): Whether to allow missing/additional keys. Defaults to False.\n",
    "\n",
    "    Returns:\n",
    "        torch model: Model with loaded weights.\n",
    "    \"\"\"\n",
    "    if verbose:\n",
    "        print(f\"\\n -> Loading weights from {os.path.join(cp_folder,filename)}\\n\")\n",
    "\n",
    "    try:\n",
    "        model.load_state_dict(\n",
    "            torch.load(os.path.join(cp_folder, filename), map_location=\"cpu\"),\n",
    "            strict=strict,\n",
    "        )\n",
    "    except RuntimeError:\n",
    "        model.encoder.fc = torch.nn.Linear(model.nb_ft, 1)\n",
    "        model.load_state_dict(\n",
    "            torch.load(os.path.join(cp_folder, filename), map_location=\"cpu\"),\n",
    "            strict=strict,\n",
    "        )\n",
    "\n",
    "    return model"
   ]
  },
  {
   "cell_type": "markdown",
   "id": "9db4a259",
   "metadata": {
    "papermill": {
     "duration": 0.028624,
     "end_time": "2022-04-16T17:13:18.915328",
     "exception": false,
     "start_time": "2022-04-16T17:13:18.886704",
     "status": "completed"
    },
    "tags": []
   },
   "source": [
    "## Predict"
   ]
  },
  {
   "cell_type": "code",
   "execution_count": 10,
   "id": "08e8607b",
   "metadata": {
    "_kg_hide-input": true,
    "execution": {
     "iopub.execute_input": "2022-04-16T17:13:18.975963Z",
     "iopub.status.busy": "2022-04-16T17:13:18.975160Z",
     "iopub.status.idle": "2022-04-16T17:13:18.983417Z",
     "shell.execute_reply": "2022-04-16T17:13:18.982992Z",
     "shell.execute_reply.started": "2022-04-16T17:09:29.740425Z"
    },
    "papermill": {
     "duration": 0.03971,
     "end_time": "2022-04-16T17:13:18.983531",
     "exception": false,
     "start_time": "2022-04-16T17:13:18.943821",
     "status": "completed"
    },
    "tags": []
   },
   "outputs": [],
   "source": [
    "import torch\n",
    "from torch.utils.data import DataLoader\n",
    "from tqdm.notebook import tqdm\n",
    "\n",
    "\n",
    "def predict(model, dataset, data_config, activation=\"softmax\"):\n",
    "    \"\"\"\n",
    "    Usual predict torch function\n",
    "    \"\"\"\n",
    "    model.eval()\n",
    "\n",
    "    loader = DataLoader(\n",
    "        dataset,\n",
    "        batch_size=data_config['val_bs'],\n",
    "        shuffle=False,\n",
    "        num_workers=NUM_WORKERS,\n",
    "        pin_memory=True,\n",
    "    )\n",
    "\n",
    "    preds = []\n",
    "    with torch.no_grad():\n",
    "        for data in tqdm(loader):\n",
    "            ids, token_type_ids = data[\"ids\"], data[\"token_type_ids\"]\n",
    "\n",
    "            y_pred = model(ids.cuda(), token_type_ids.cuda())\n",
    "\n",
    "            if activation == \"sigmoid\":\n",
    "                y_pred = y_pred.sigmoid()\n",
    "            elif activation == \"softmax\":\n",
    "                y_pred = y_pred.softmax(-1)\n",
    "\n",
    "            preds += [\n",
    "                token_pred_to_char_pred(y, offsets) for y, offsets\n",
    "                in zip(y_pred.detach().cpu().numpy(), data[\"offsets\"].numpy())\n",
    "            ]\n",
    "\n",
    "    return preds\n"
   ]
  },
  {
   "cell_type": "markdown",
   "id": "4e9d7388",
   "metadata": {
    "papermill": {
     "duration": 0.028284,
     "end_time": "2022-04-16T17:13:19.040905",
     "exception": false,
     "start_time": "2022-04-16T17:13:19.012621",
     "status": "completed"
    },
    "tags": []
   },
   "source": [
    "## Inference"
   ]
  },
  {
   "cell_type": "code",
   "execution_count": 11,
   "id": "0bfc7eaa",
   "metadata": {
    "_kg_hide-input": true,
    "execution": {
     "iopub.execute_input": "2022-04-16T17:13:19.106970Z",
     "iopub.status.busy": "2022-04-16T17:13:19.106198Z",
     "iopub.status.idle": "2022-04-16T17:13:19.108601Z",
     "shell.execute_reply": "2022-04-16T17:13:19.108198Z",
     "shell.execute_reply.started": "2022-04-16T17:09:29.750874Z"
    },
    "papermill": {
     "duration": 0.039277,
     "end_time": "2022-04-16T17:13:19.108709",
     "exception": false,
     "start_time": "2022-04-16T17:13:19.069432",
     "status": "completed"
    },
    "tags": []
   },
   "outputs": [],
   "source": [
    "def inference_test(df, exp_folder, config, cfg_folder=None):\n",
    "    preds = []\n",
    "\n",
    "    if cfg_folder is not None:\n",
    "        model_config_file = cfg_folder + config.name.split('/')[-1] + \"/config.pth\"\n",
    "        tokenizer_folder = cfg_folder + config.name.split('/')[-1] + \"/tokenizers/\"\n",
    "    else:\n",
    "        model_config_file, tokenizer_folder = None, None\n",
    "\n",
    "    tokenizer = get_tokenizer(\n",
    "        config.name, precompute=config.precompute_tokens, df=df, folder=tokenizer_folder\n",
    "    )\n",
    "\n",
    "    dataset = PatientNoteDataset(\n",
    "        df,\n",
    "        tokenizer,\n",
    "        max_len=config.max_len,\n",
    "    )\n",
    "\n",
    "    model = NERTransformer(\n",
    "        config.name,\n",
    "        num_classes=config.num_classes,\n",
    "        config_file=model_config_file,\n",
    "        pretrained=False\n",
    "    ).cuda()\n",
    "    model.zero_grad()\n",
    "\n",
    "    weights = sorted(glob.glob(exp_folder + \"*.pt\"))\n",
    "    for weight in weights:\n",
    "        model = load_model_weights(model, weight)\n",
    "\n",
    "        pred = predict(\n",
    "            model,\n",
    "            dataset,\n",
    "            data_config=config.data_config,\n",
    "            activation=config.loss_config[\"activation\"]\n",
    "        )\n",
    "        preds.append(pred)\n",
    "\n",
    "    return preds"
   ]
  },
  {
   "cell_type": "markdown",
   "id": "f735e11e",
   "metadata": {
    "papermill": {
     "duration": 0.028574,
     "end_time": "2022-04-16T17:13:19.165799",
     "exception": false,
     "start_time": "2022-04-16T17:13:19.137225",
     "status": "completed"
    },
    "tags": []
   },
   "source": [
    "# Main"
   ]
  },
  {
   "cell_type": "markdown",
   "id": "a882d603",
   "metadata": {
    "papermill": {
     "duration": 0.028379,
     "end_time": "2022-04-16T17:13:19.222606",
     "exception": false,
     "start_time": "2022-04-16T17:13:19.194227",
     "status": "completed"
    },
    "tags": []
   },
   "source": [
    "## Config"
   ]
  },
  {
   "cell_type": "code",
   "execution_count": 12,
   "id": "66c1b4c7",
   "metadata": {
    "execution": {
     "iopub.execute_input": "2022-04-16T17:13:19.285362Z",
     "iopub.status.busy": "2022-04-16T17:13:19.284572Z",
     "iopub.status.idle": "2022-04-16T17:13:19.286931Z",
     "shell.execute_reply": "2022-04-16T17:13:19.286515Z",
     "shell.execute_reply.started": "2022-04-16T17:09:29.763865Z"
    },
    "papermill": {
     "duration": 0.035866,
     "end_time": "2022-04-16T17:13:19.287034",
     "exception": false,
     "start_time": "2022-04-16T17:13:19.251168",
     "status": "completed"
    },
    "tags": []
   },
   "outputs": [],
   "source": [
    "class Config:\n",
    "    # Architecture\n",
    "    name = \"roberta-large\"\n",
    "    num_classes = 1\n",
    "\n",
    "    # Texts\n",
    "    max_len = 310\n",
    "    precompute_tokens = True\n",
    "\n",
    "    # Training    \n",
    "    loss_config = {\n",
    "        \"activation\": \"sigmoid\",\n",
    "    }\n",
    "\n",
    "    data_config = {\n",
    "        \"val_bs\": 16 if \"large\" in name else 32,\n",
    "        \"pad_token\": 1 if \"roberta\" in name else 0,\n",
    "    }\n",
    "\n",
    "    verbose = 1"
   ]
  },
  {
   "cell_type": "markdown",
   "id": "55b3724c",
   "metadata": {
    "papermill": {
     "duration": 0.029219,
     "end_time": "2022-04-16T17:13:19.344787",
     "exception": false,
     "start_time": "2022-04-16T17:13:19.315568",
     "status": "completed"
    },
    "tags": []
   },
   "source": [
    "## Data"
   ]
  },
  {
   "cell_type": "code",
   "execution_count": 13,
   "id": "2a744ad4",
   "metadata": {
    "execution": {
     "iopub.execute_input": "2022-04-16T17:13:19.406566Z",
     "iopub.status.busy": "2022-04-16T17:13:19.405884Z",
     "iopub.status.idle": "2022-04-16T17:13:20.128617Z",
     "shell.execute_reply": "2022-04-16T17:13:20.129043Z",
     "shell.execute_reply.started": "2022-04-16T17:09:29.774312Z"
    },
    "papermill": {
     "duration": 0.755835,
     "end_time": "2022-04-16T17:13:20.129207",
     "exception": false,
     "start_time": "2022-04-16T17:13:19.373372",
     "status": "completed"
    },
    "tags": []
   },
   "outputs": [
    {
     "data": {
      "text/html": [
       "<div>\n",
       "<style scoped>\n",
       "    .dataframe tbody tr th:only-of-type {\n",
       "        vertical-align: middle;\n",
       "    }\n",
       "\n",
       "    .dataframe tbody tr th {\n",
       "        vertical-align: top;\n",
       "    }\n",
       "\n",
       "    .dataframe thead th {\n",
       "        text-align: right;\n",
       "    }\n",
       "</style>\n",
       "<table border=\"1\" class=\"dataframe\">\n",
       "  <thead>\n",
       "    <tr style=\"text-align: right;\">\n",
       "      <th></th>\n",
       "      <th>id</th>\n",
       "      <th>case_num</th>\n",
       "      <th>pn_num</th>\n",
       "      <th>feature_num</th>\n",
       "      <th>feature_text</th>\n",
       "      <th>pn_history</th>\n",
       "      <th>clean_text</th>\n",
       "      <th>target</th>\n",
       "    </tr>\n",
       "  </thead>\n",
       "  <tbody>\n",
       "    <tr>\n",
       "      <th>0</th>\n",
       "      <td>00016_000</td>\n",
       "      <td>0</td>\n",
       "      <td>16</td>\n",
       "      <td>0</td>\n",
       "      <td>Family history of MI or Family history of myoc...</td>\n",
       "      <td>HPI: 17yo M presents with palpitations. Patien...</td>\n",
       "      <td>HPI: 17yo M presents with palpitations. Patien...</td>\n",
       "      <td></td>\n",
       "    </tr>\n",
       "    <tr>\n",
       "      <th>1</th>\n",
       "      <td>00016_001</td>\n",
       "      <td>0</td>\n",
       "      <td>16</td>\n",
       "      <td>1</td>\n",
       "      <td>Family history of thyroid disorder</td>\n",
       "      <td>HPI: 17yo M presents with palpitations. Patien...</td>\n",
       "      <td>HPI: 17yo M presents with palpitations. Patien...</td>\n",
       "      <td></td>\n",
       "    </tr>\n",
       "    <tr>\n",
       "      <th>2</th>\n",
       "      <td>00016_002</td>\n",
       "      <td>0</td>\n",
       "      <td>16</td>\n",
       "      <td>2</td>\n",
       "      <td>Chest pressure</td>\n",
       "      <td>HPI: 17yo M presents with palpitations. Patien...</td>\n",
       "      <td>HPI: 17yo M presents with palpitations. Patien...</td>\n",
       "      <td></td>\n",
       "    </tr>\n",
       "    <tr>\n",
       "      <th>3</th>\n",
       "      <td>00016_003</td>\n",
       "      <td>0</td>\n",
       "      <td>16</td>\n",
       "      <td>3</td>\n",
       "      <td>Intermittent symptoms</td>\n",
       "      <td>HPI: 17yo M presents with palpitations. Patien...</td>\n",
       "      <td>HPI: 17yo M presents with palpitations. Patien...</td>\n",
       "      <td></td>\n",
       "    </tr>\n",
       "    <tr>\n",
       "      <th>4</th>\n",
       "      <td>00016_004</td>\n",
       "      <td>0</td>\n",
       "      <td>16</td>\n",
       "      <td>4</td>\n",
       "      <td>Lightheaded</td>\n",
       "      <td>HPI: 17yo M presents with palpitations. Patien...</td>\n",
       "      <td>HPI: 17yo M presents with palpitations. Patien...</td>\n",
       "      <td></td>\n",
       "    </tr>\n",
       "  </tbody>\n",
       "</table>\n",
       "</div>"
      ],
      "text/plain": [
       "          id  case_num  pn_num  feature_num  \\\n",
       "0  00016_000         0      16            0   \n",
       "1  00016_001         0      16            1   \n",
       "2  00016_002         0      16            2   \n",
       "3  00016_003         0      16            3   \n",
       "4  00016_004         0      16            4   \n",
       "\n",
       "                                        feature_text  \\\n",
       "0  Family history of MI or Family history of myoc...   \n",
       "1                 Family history of thyroid disorder   \n",
       "2                                     Chest pressure   \n",
       "3                              Intermittent symptoms   \n",
       "4                                        Lightheaded   \n",
       "\n",
       "                                          pn_history  \\\n",
       "0  HPI: 17yo M presents with palpitations. Patien...   \n",
       "1  HPI: 17yo M presents with palpitations. Patien...   \n",
       "2  HPI: 17yo M presents with palpitations. Patien...   \n",
       "3  HPI: 17yo M presents with palpitations. Patien...   \n",
       "4  HPI: 17yo M presents with palpitations. Patien...   \n",
       "\n",
       "                                          clean_text target  \n",
       "0  HPI: 17yo M presents with palpitations. Patien...         \n",
       "1  HPI: 17yo M presents with palpitations. Patien...         \n",
       "2  HPI: 17yo M presents with palpitations. Patien...         \n",
       "3  HPI: 17yo M presents with palpitations. Patien...         \n",
       "4  HPI: 17yo M presents with palpitations. Patien...         "
      ]
     },
     "execution_count": 13,
     "metadata": {},
     "output_type": "execute_result"
    }
   ],
   "source": [
    "df_test = load_and_prepare_test(root=DATA_PATH)\n",
    "df_test.head()"
   ]
  },
  {
   "cell_type": "markdown",
   "id": "9ea01728",
   "metadata": {
    "papermill": {
     "duration": 0.032028,
     "end_time": "2022-04-16T17:13:20.192969",
     "exception": false,
     "start_time": "2022-04-16T17:13:20.160941",
     "status": "completed"
    },
    "tags": []
   },
   "source": [
    "## Inference"
   ]
  },
  {
   "cell_type": "code",
   "execution_count": 14,
   "id": "322cb3de",
   "metadata": {
    "execution": {
     "iopub.execute_input": "2022-04-16T17:13:20.260549Z",
     "iopub.status.busy": "2022-04-16T17:13:20.259936Z",
     "iopub.status.idle": "2022-04-16T17:13:53.699550Z",
     "shell.execute_reply": "2022-04-16T17:13:53.700049Z",
     "shell.execute_reply.started": "2022-04-16T17:09:30.474541Z"
    },
    "papermill": {
     "duration": 33.47614,
     "end_time": "2022-04-16T17:13:53.700289",
     "exception": false,
     "start_time": "2022-04-16T17:13:20.224149",
     "status": "completed"
    },
    "tags": []
   },
   "outputs": [
    {
     "name": "stdout",
     "output_type": "stream",
     "text": [
      "\n",
      " -> Loading weights from ../input/nbme-roberta-large/roberta-large_0.pt\n",
      "\n"
     ]
    },
    {
     "data": {
      "application/vnd.jupyter.widget-view+json": {
       "model_id": "125fbb0f37a542089d12d053b9ebbe10",
       "version_major": 2,
       "version_minor": 0
      },
      "text/plain": [
       "  0%|          | 0/1 [00:00<?, ?it/s]"
      ]
     },
     "metadata": {},
     "output_type": "display_data"
    }
   ],
   "source": [
    "preds = inference_test(\n",
    "    df_test,\n",
    "    WEIGHTS_FOLDER,\n",
    "    Config,\n",
    "    cfg_folder=OUT_PATH\n",
    ")[0]"
   ]
  },
  {
   "cell_type": "code",
   "execution_count": 15,
   "id": "c309a6c6",
   "metadata": {
    "execution": {
     "iopub.execute_input": "2022-04-16T17:13:53.787007Z",
     "iopub.status.busy": "2022-04-16T17:13:53.779873Z",
     "iopub.status.idle": "2022-04-16T17:13:53.789768Z",
     "shell.execute_reply": "2022-04-16T17:13:53.789215Z",
     "shell.execute_reply.started": "2022-04-16T17:09:58.626964Z"
    },
    "papermill": {
     "duration": 0.051024,
     "end_time": "2022-04-16T17:13:53.789892",
     "exception": false,
     "start_time": "2022-04-16T17:13:53.738868",
     "status": "completed"
    },
    "tags": []
   },
   "outputs": [],
   "source": [
    "df_test['preds'] = preds\n",
    "df_test['preds'] = df_test.apply(lambda x: x['preds'][:len(x['clean_text'])], 1)\n",
    "\n",
    "df_test['preds'] = df_test['preds'].apply(lambda x: (x > 0.5).flatten())"
   ]
  },
  {
   "cell_type": "markdown",
   "id": "72d26b78",
   "metadata": {
    "papermill": {
     "duration": 0.034942,
     "end_time": "2022-04-16T17:13:53.861987",
     "exception": false,
     "start_time": "2022-04-16T17:13:53.827045",
     "status": "completed"
    },
    "tags": []
   },
   "source": [
    "## Plot predictions"
   ]
  },
  {
   "cell_type": "code",
   "execution_count": 16,
   "id": "4c62de40",
   "metadata": {
    "execution": {
     "iopub.execute_input": "2022-04-16T17:13:53.964890Z",
     "iopub.status.busy": "2022-04-16T17:13:53.955789Z",
     "iopub.status.idle": "2022-04-16T17:13:53.968456Z",
     "shell.execute_reply": "2022-04-16T17:13:53.968977Z",
     "shell.execute_reply.started": "2022-04-16T17:09:58.636969Z"
    },
    "papermill": {
     "duration": 0.073257,
     "end_time": "2022-04-16T17:13:53.969166",
     "exception": false,
     "start_time": "2022-04-16T17:13:53.895909",
     "status": "completed"
    },
    "tags": []
   },
   "outputs": [
    {
     "data": {
      "text/html": [
       "<span class=\"tex2jax_ignore\"><div class=\"entities\" style=\"line-height: 2.5; direction: ltr\">HPI: 17yo M presents with palpitations. Patient reports 3-4 months of \n",
       "<mark class=\"entity\" style=\"background: rgb(204, 160, 206); padding: 0.45em 0.6em; margin: 0 0.25em; line-height: 1; border-radius: 0.35em;\">\n",
       "    intermittent\n",
       "    <span style=\"font-size: 0.8em; font-weight: bold; line-height: 1; border-radius: 0.35em; vertical-align: middle; margin-left: 0.5rem\">Intermittent symptoms</span>\n",
       "</mark>\n",
       " \n",
       "<mark class=\"entity\" style=\"background: rgb(204, 160, 206); padding: 0.45em 0.6em; margin: 0 0.25em; line-height: 1; border-radius: 0.35em;\">\n",
       "    episodes\n",
       "    <span style=\"font-size: 0.8em; font-weight: bold; line-height: 1; border-radius: 0.35em; vertical-align: middle; margin-left: 0.5rem\">Intermittent symptoms</span>\n",
       "</mark>\n",
       " of &quot;heart beating/pounding out of my chest.&quot; 2 days ago during a soccer game had an episode, but this time had \n",
       "<mark class=\"entity\" style=\"background: rgb(100, 234, 192); padding: 0.45em 0.6em; margin: 0 0.25em; line-height: 1; border-radius: 0.35em;\">\n",
       "    chest\n",
       "    <span style=\"font-size: 0.8em; font-weight: bold; line-height: 1; border-radius: 0.35em; vertical-align: middle; margin-left: 0.5rem\">Chest pressure</span>\n",
       "</mark>\n",
       " \n",
       "<mark class=\"entity\" style=\"background: rgb(100, 234, 192); padding: 0.45em 0.6em; margin: 0 0.25em; line-height: 1; border-radius: 0.35em;\">\n",
       "    pressure\n",
       "    <span style=\"font-size: 0.8em; font-weight: bold; line-height: 1; border-radius: 0.35em; vertical-align: middle; margin-left: 0.5rem\">Chest pressure</span>\n",
       "</mark>\n",
       " and \n",
       "<mark class=\"entity\" style=\"background: rgb(204, 162, 219); padding: 0.45em 0.6em; margin: 0 0.25em; line-height: 1; border-radius: 0.35em;\">\n",
       "    felt\n",
       "    <span style=\"font-size: 0.8em; font-weight: bold; line-height: 1; border-radius: 0.35em; vertical-align: middle; margin-left: 0.5rem\">Lightheaded</span>\n",
       "</mark>\n",
       " \n",
       "<mark class=\"entity\" style=\"background: rgb(204, 162, 219); padding: 0.45em 0.6em; margin: 0 0.25em; line-height: 1; border-radius: 0.35em;\">\n",
       "    as\n",
       "    <span style=\"font-size: 0.8em; font-weight: bold; line-height: 1; border-radius: 0.35em; vertical-align: middle; margin-left: 0.5rem\">Lightheaded</span>\n",
       "</mark>\n",
       " \n",
       "<mark class=\"entity\" style=\"background: rgb(204, 162, 219); padding: 0.45em 0.6em; margin: 0 0.25em; line-height: 1; border-radius: 0.35em;\">\n",
       "    if\n",
       "    <span style=\"font-size: 0.8em; font-weight: bold; line-height: 1; border-radius: 0.35em; vertical-align: middle; margin-left: 0.5rem\">Lightheaded</span>\n",
       "</mark>\n",
       " \n",
       "<mark class=\"entity\" style=\"background: rgb(204, 162, 219); padding: 0.45em 0.6em; margin: 0 0.25em; line-height: 1; border-radius: 0.35em;\">\n",
       "    he\n",
       "    <span style=\"font-size: 0.8em; font-weight: bold; line-height: 1; border-radius: 0.35em; vertical-align: middle; margin-left: 0.5rem\">Lightheaded</span>\n",
       "</mark>\n",
       " \n",
       "<mark class=\"entity\" style=\"background: rgb(204, 162, 219); padding: 0.45em 0.6em; margin: 0 0.25em; line-height: 1; border-radius: 0.35em;\">\n",
       "    were\n",
       "    <span style=\"font-size: 0.8em; font-weight: bold; line-height: 1; border-radius: 0.35em; vertical-align: middle; margin-left: 0.5rem\">Lightheaded</span>\n",
       "</mark>\n",
       " \n",
       "<mark class=\"entity\" style=\"background: rgb(204, 162, 219); padding: 0.45em 0.6em; margin: 0 0.25em; line-height: 1; border-radius: 0.35em;\">\n",
       "    going\n",
       "    <span style=\"font-size: 0.8em; font-weight: bold; line-height: 1; border-radius: 0.35em; vertical-align: middle; margin-left: 0.5rem\">Lightheaded</span>\n",
       "</mark>\n",
       " \n",
       "<mark class=\"entity\" style=\"background: rgb(204, 162, 219); padding: 0.45em 0.6em; margin: 0 0.25em; line-height: 1; border-radius: 0.35em;\">\n",
       "    to\n",
       "    <span style=\"font-size: 0.8em; font-weight: bold; line-height: 1; border-radius: 0.35em; vertical-align: middle; margin-left: 0.5rem\">Lightheaded</span>\n",
       "</mark>\n",
       " \n",
       "<mark class=\"entity\" style=\"background: rgb(204, 162, 219); padding: 0.45em 0.6em; margin: 0 0.25em; line-height: 1; border-radius: 0.35em;\">\n",
       "    pass\n",
       "    <span style=\"font-size: 0.8em; font-weight: bold; line-height: 1; border-radius: 0.35em; vertical-align: middle; margin-left: 0.5rem\">Lightheaded</span>\n",
       "</mark>\n",
       " \n",
       "<mark class=\"entity\" style=\"background: rgb(204, 162, 219); padding: 0.45em 0.6em; margin: 0 0.25em; line-height: 1; border-radius: 0.35em;\">\n",
       "    out\n",
       "    <span style=\"font-size: 0.8em; font-weight: bold; line-height: 1; border-radius: 0.35em; vertical-align: middle; margin-left: 0.5rem\">Lightheaded</span>\n",
       "</mark>\n",
       " (did not lose conciousness). Of note patient endorses abusing adderall, primarily to study (1-3 times per week). Before recent soccer game, took adderrall night before and morning of game. Denies shortness of breath, diaphoresis, fevers, chills, headache, fatigue, changes in sleep, changes in vision/hearing, abdominal paun, changes in bowel or urinary habits. \r",
       "</br>PMHx: none\r",
       "</br>Rx: uses friends adderrall\r",
       "</br>FHx: \n",
       "<mark class=\"entity\" style=\"background: rgb(216, 128, 156); padding: 0.45em 0.6em; margin: 0 0.25em; line-height: 1; border-radius: 0.35em;\">\n",
       "    mom\n",
       "    <span style=\"font-size: 0.8em; font-weight: bold; line-height: 1; border-radius: 0.35em; vertical-align: middle; margin-left: 0.5rem\">Family history of thyroid disorder</span>\n",
       "</mark>\n",
       " \n",
       "<mark class=\"entity\" style=\"background: rgb(216, 128, 156); padding: 0.45em 0.6em; margin: 0 0.25em; line-height: 1; border-radius: 0.35em;\">\n",
       "    with\n",
       "    <span style=\"font-size: 0.8em; font-weight: bold; line-height: 1; border-radius: 0.35em; vertical-align: middle; margin-left: 0.5rem\">Family history of thyroid disorder</span>\n",
       "</mark>\n",
       " \n",
       "<mark class=\"entity\" style=\"background: rgb(216, 128, 156); padding: 0.45em 0.6em; margin: 0 0.25em; line-height: 1; border-radius: 0.35em;\">\n",
       "    &quot;thyroid\n",
       "    <span style=\"font-size: 0.8em; font-weight: bold; line-height: 1; border-radius: 0.35em; vertical-align: middle; margin-left: 0.5rem\">Family history of thyroid disorder</span>\n",
       "</mark>\n",
       " \n",
       "<mark class=\"entity\" style=\"background: rgb(216, 128, 156); padding: 0.45em 0.6em; margin: 0 0.25em; line-height: 1; border-radius: 0.35em;\">\n",
       "    disease\n",
       "    <span style=\"font-size: 0.8em; font-weight: bold; line-height: 1; border-radius: 0.35em; vertical-align: middle; margin-left: 0.5rem\">Family history of thyroid disorder</span>\n",
       "</mark>\n",
       ",&quot; \n",
       "<mark class=\"entity\" style=\"background: rgb(120, 109, 105); padding: 0.45em 0.6em; margin: 0 0.25em; line-height: 1; border-radius: 0.35em;\">\n",
       "    dad\n",
       "    <span style=\"font-size: 0.8em; font-weight: bold; line-height: 1; border-radius: 0.35em; vertical-align: middle; margin-left: 0.5rem\">Family history of MI or Family history of myocardial infarction</span>\n",
       "</mark>\n",
       " \n",
       "<mark class=\"entity\" style=\"background: rgb(120, 109, 105); padding: 0.45em 0.6em; margin: 0 0.25em; line-height: 1; border-radius: 0.35em;\">\n",
       "    with\n",
       "    <span style=\"font-size: 0.8em; font-weight: bold; line-height: 1; border-radius: 0.35em; vertical-align: middle; margin-left: 0.5rem\">Family history of MI or Family history of myocardial infarction</span>\n",
       "</mark>\n",
       " \n",
       "<mark class=\"entity\" style=\"background: rgb(120, 109, 105); padding: 0.45em 0.6em; margin: 0 0.25em; line-height: 1; border-radius: 0.35em;\">\n",
       "    recent\n",
       "    <span style=\"font-size: 0.8em; font-weight: bold; line-height: 1; border-radius: 0.35em; vertical-align: middle; margin-left: 0.5rem\">Family history of MI or Family history of myocardial infarction</span>\n",
       "</mark>\n",
       " \n",
       "<mark class=\"entity\" style=\"background: rgb(120, 109, 105); padding: 0.45em 0.6em; margin: 0 0.25em; line-height: 1; border-radius: 0.35em;\">\n",
       "    heart\n",
       "    <span style=\"font-size: 0.8em; font-weight: bold; line-height: 1; border-radius: 0.35em; vertical-align: middle; margin-left: 0.5rem\">Family history of MI or Family history of myocardial infarction</span>\n",
       "</mark>\n",
       " \n",
       "<mark class=\"entity\" style=\"background: rgb(120, 109, 105); padding: 0.45em 0.6em; margin: 0 0.25em; line-height: 1; border-radius: 0.35em;\">\n",
       "    attcak\n",
       "    <span style=\"font-size: 0.8em; font-weight: bold; line-height: 1; border-radius: 0.35em; vertical-align: middle; margin-left: 0.5rem\">Family history of MI or Family history of myocardial infarction</span>\n",
       "</mark>\n",
       "\r",
       "</br>All: none\r",
       "</br>Immunizations: up to date\r",
       "</br>SHx: Freshmen in college. Endorses 3-4 drinks 3 nights / week (on weekends), denies tabacco, endorses trying marijuana. Sexually active with girlfriend x 1 year, uses condoms</div></span>"
      ],
      "text/plain": [
       "<IPython.core.display.HTML object>"
      ]
     },
     "metadata": {},
     "output_type": "display_data"
    }
   ],
   "source": [
    "try:\n",
    "    df_test['span'] = df_test['preds'].apply(char_target_to_span)\n",
    "    plot_annotation(df_test, df_test['pn_num'][0])\n",
    "except:\n",
    "    pass"
   ]
  },
  {
   "cell_type": "markdown",
   "id": "ca5a9f44",
   "metadata": {
    "papermill": {
     "duration": 0.0349,
     "end_time": "2022-04-16T17:13:54.038849",
     "exception": false,
     "start_time": "2022-04-16T17:13:54.003949",
     "status": "completed"
    },
    "tags": []
   },
   "source": [
    "Unlike for deberta, spaces are not included in the offsets, we need to add them manually otherwise this will hurt performances."
   ]
  },
  {
   "cell_type": "markdown",
   "id": "d428c276",
   "metadata": {
    "papermill": {
     "duration": 0.034583,
     "end_time": "2022-04-16T17:13:54.108502",
     "exception": false,
     "start_time": "2022-04-16T17:13:54.073919",
     "status": "completed"
    },
    "tags": []
   },
   "source": [
    "## Post-processing"
   ]
  },
  {
   "cell_type": "code",
   "execution_count": 17,
   "id": "19bb31ba",
   "metadata": {
    "execution": {
     "iopub.execute_input": "2022-04-16T17:13:54.188524Z",
     "iopub.status.busy": "2022-04-16T17:13:54.187918Z",
     "iopub.status.idle": "2022-04-16T17:13:54.191625Z",
     "shell.execute_reply": "2022-04-16T17:13:54.191212Z",
     "shell.execute_reply.started": "2022-04-16T17:09:58.673145Z"
    },
    "papermill": {
     "duration": 0.048497,
     "end_time": "2022-04-16T17:13:54.191732",
     "exception": false,
     "start_time": "2022-04-16T17:13:54.143235",
     "status": "completed"
    },
    "tags": []
   },
   "outputs": [],
   "source": [
    "def post_process_spaces(target, text):\n",
    "    target = np.copy(target)\n",
    "\n",
    "    if len(text) > len(target):\n",
    "        padding = np.zeros(len(text) - len(target))\n",
    "        target = np.concatenate([target, padding])\n",
    "    else:\n",
    "        target = target[:len(text)]\n",
    "\n",
    "    if text[0] == \" \":\n",
    "        target[0] = 0\n",
    "    if text[-1] == \" \":\n",
    "        target[-1] = 0\n",
    "\n",
    "    for i in range(1, len(text) - 1):\n",
    "        if text[i] == \" \":\n",
    "            if target[i] and not target[i - 1]:  # space before\n",
    "                target[i] = 0\n",
    "\n",
    "            if target[i] and not target[i + 1]:  # space after\n",
    "                target[i] = 0\n",
    "\n",
    "            if target[i - 1] and target[i + 1]:\n",
    "                target[i] = 1\n",
    "\n",
    "    return target"
   ]
  },
  {
   "cell_type": "code",
   "execution_count": 18,
   "id": "51268699",
   "metadata": {
    "execution": {
     "iopub.execute_input": "2022-04-16T17:13:54.268354Z",
     "iopub.status.busy": "2022-04-16T17:13:54.267738Z",
     "iopub.status.idle": "2022-04-16T17:13:54.271321Z",
     "shell.execute_reply": "2022-04-16T17:13:54.271860Z",
     "shell.execute_reply.started": "2022-04-16T17:09:58.683633Z"
    },
    "papermill": {
     "duration": 0.045418,
     "end_time": "2022-04-16T17:13:54.271994",
     "exception": false,
     "start_time": "2022-04-16T17:13:54.226576",
     "status": "completed"
    },
    "tags": []
   },
   "outputs": [],
   "source": [
    "df_test['preds_pp'] = df_test.apply(lambda x: post_process_spaces(x['preds'], x['clean_text']), 1)"
   ]
  },
  {
   "cell_type": "code",
   "execution_count": 19,
   "id": "0f94c9a1",
   "metadata": {
    "execution": {
     "iopub.execute_input": "2022-04-16T17:13:54.371454Z",
     "iopub.status.busy": "2022-04-16T17:13:54.370869Z",
     "iopub.status.idle": "2022-04-16T17:13:54.377327Z",
     "shell.execute_reply": "2022-04-16T17:13:54.376722Z",
     "shell.execute_reply.started": "2022-04-16T17:09:58.695702Z"
    },
    "papermill": {
     "duration": 0.070422,
     "end_time": "2022-04-16T17:13:54.377443",
     "exception": false,
     "start_time": "2022-04-16T17:13:54.307021",
     "status": "completed"
    },
    "tags": []
   },
   "outputs": [
    {
     "data": {
      "text/html": [
       "<span class=\"tex2jax_ignore\"><div class=\"entities\" style=\"line-height: 2.5; direction: ltr\">HPI: 17yo M presents with palpitations. Patient reports 3-4 months of \n",
       "<mark class=\"entity\" style=\"background: rgb(240, 246, 117); padding: 0.45em 0.6em; margin: 0 0.25em; line-height: 1; border-radius: 0.35em;\">\n",
       "    intermittent episodes\n",
       "    <span style=\"font-size: 0.8em; font-weight: bold; line-height: 1; border-radius: 0.35em; vertical-align: middle; margin-left: 0.5rem\">Intermittent symptoms</span>\n",
       "</mark>\n",
       " of &quot;heart beating/pounding out of my chest.&quot; 2 days ago during a soccer game had an episode, but this time had \n",
       "<mark class=\"entity\" style=\"background: rgb(219, 113, 139); padding: 0.45em 0.6em; margin: 0 0.25em; line-height: 1; border-radius: 0.35em;\">\n",
       "    chest pressure\n",
       "    <span style=\"font-size: 0.8em; font-weight: bold; line-height: 1; border-radius: 0.35em; vertical-align: middle; margin-left: 0.5rem\">Chest pressure</span>\n",
       "</mark>\n",
       " and \n",
       "<mark class=\"entity\" style=\"background: rgb(192, 239, 113); padding: 0.45em 0.6em; margin: 0 0.25em; line-height: 1; border-radius: 0.35em;\">\n",
       "    felt as if he were going to pass out\n",
       "    <span style=\"font-size: 0.8em; font-weight: bold; line-height: 1; border-radius: 0.35em; vertical-align: middle; margin-left: 0.5rem\">Lightheaded</span>\n",
       "</mark>\n",
       " (did not lose conciousness). Of note patient endorses abusing adderall, primarily to study (1-3 times per week). Before recent soccer game, took adderrall night before and morning of game. Denies shortness of breath, diaphoresis, fevers, chills, headache, fatigue, changes in sleep, changes in vision/hearing, abdominal paun, changes in bowel or urinary habits. \r",
       "</br>PMHx: none\r",
       "</br>Rx: uses friends adderrall\r",
       "</br>FHx: \n",
       "<mark class=\"entity\" style=\"background: rgb(211, 253, 134); padding: 0.45em 0.6em; margin: 0 0.25em; line-height: 1; border-radius: 0.35em;\">\n",
       "    mom with &quot;thyroid disease\n",
       "    <span style=\"font-size: 0.8em; font-weight: bold; line-height: 1; border-radius: 0.35em; vertical-align: middle; margin-left: 0.5rem\">Family history of thyroid disorder</span>\n",
       "</mark>\n",
       ",&quot; \n",
       "<mark class=\"entity\" style=\"background: rgb(253, 121, 141); padding: 0.45em 0.6em; margin: 0 0.25em; line-height: 1; border-radius: 0.35em;\">\n",
       "    dad with recent heart attcak\n",
       "    <span style=\"font-size: 0.8em; font-weight: bold; line-height: 1; border-radius: 0.35em; vertical-align: middle; margin-left: 0.5rem\">Family history of MI or Family history of myocardial infarction</span>\n",
       "</mark>\n",
       "\r",
       "</br>All: none\r",
       "</br>Immunizations: up to date\r",
       "</br>SHx: Freshmen in college. Endorses 3-4 drinks 3 nights / week (on weekends), denies tabacco, endorses trying marijuana. Sexually active with girlfriend x 1 year, uses condoms</div></span>"
      ],
      "text/plain": [
       "<IPython.core.display.HTML object>"
      ]
     },
     "metadata": {},
     "output_type": "display_data"
    }
   ],
   "source": [
    "try:\n",
    "    df_test['span'] = df_test['preds_pp'].apply(char_target_to_span)\n",
    "    plot_annotation(df_test, df_test['pn_num'][0])\n",
    "except:\n",
    "    pass"
   ]
  },
  {
   "cell_type": "markdown",
   "id": "e70113b4",
   "metadata": {
    "papermill": {
     "duration": 0.03541,
     "end_time": "2022-04-16T17:13:54.448405",
     "exception": false,
     "start_time": "2022-04-16T17:13:54.412995",
     "status": "completed"
    },
    "tags": []
   },
   "source": [
    "## Submission"
   ]
  },
  {
   "cell_type": "code",
   "execution_count": 20,
   "id": "85713900",
   "metadata": {
    "execution": {
     "iopub.execute_input": "2022-04-16T17:13:54.526243Z",
     "iopub.status.busy": "2022-04-16T17:13:54.522624Z",
     "iopub.status.idle": "2022-04-16T17:13:54.550682Z",
     "shell.execute_reply": "2022-04-16T17:13:54.549860Z",
     "shell.execute_reply.started": "2022-04-16T17:09:58.725547Z"
    },
    "papermill": {
     "duration": 0.066943,
     "end_time": "2022-04-16T17:13:54.550814",
     "exception": false,
     "start_time": "2022-04-16T17:13:54.483871",
     "status": "completed"
    },
    "tags": []
   },
   "outputs": [
    {
     "data": {
      "text/html": [
       "<div>\n",
       "<style scoped>\n",
       "    .dataframe tbody tr th:only-of-type {\n",
       "        vertical-align: middle;\n",
       "    }\n",
       "\n",
       "    .dataframe tbody tr th {\n",
       "        vertical-align: top;\n",
       "    }\n",
       "\n",
       "    .dataframe thead th {\n",
       "        text-align: right;\n",
       "    }\n",
       "</style>\n",
       "<table border=\"1\" class=\"dataframe\">\n",
       "  <thead>\n",
       "    <tr style=\"text-align: right;\">\n",
       "      <th></th>\n",
       "      <th>id</th>\n",
       "      <th>location</th>\n",
       "    </tr>\n",
       "  </thead>\n",
       "  <tbody>\n",
       "    <tr>\n",
       "      <th>0</th>\n",
       "      <td>00016_000</td>\n",
       "      <td>696 724</td>\n",
       "    </tr>\n",
       "    <tr>\n",
       "      <th>1</th>\n",
       "      <td>00016_001</td>\n",
       "      <td>668 693</td>\n",
       "    </tr>\n",
       "    <tr>\n",
       "      <th>2</th>\n",
       "      <td>00016_002</td>\n",
       "      <td>203 217</td>\n",
       "    </tr>\n",
       "    <tr>\n",
       "      <th>3</th>\n",
       "      <td>00016_003</td>\n",
       "      <td>70 91</td>\n",
       "    </tr>\n",
       "    <tr>\n",
       "      <th>4</th>\n",
       "      <td>00016_004</td>\n",
       "      <td>222 258</td>\n",
       "    </tr>\n",
       "  </tbody>\n",
       "</table>\n",
       "</div>"
      ],
      "text/plain": [
       "          id location\n",
       "0  00016_000  696 724\n",
       "1  00016_001  668 693\n",
       "2  00016_002  203 217\n",
       "3  00016_003    70 91\n",
       "4  00016_004  222 258"
      ]
     },
     "execution_count": 20,
     "metadata": {},
     "output_type": "execute_result"
    }
   ],
   "source": [
    "df_test['location'] = labels_to_sub(df_test['preds_pp'].values)\n",
    "\n",
    "sub = pd.read_csv(DATA_PATH + 'sample_submission.csv')\n",
    "\n",
    "sub = sub[['id']].merge(df_test[['id', \"location\"]], how=\"left\", on=\"id\")\n",
    "\n",
    "sub.to_csv('submission.csv', index=False)\n",
    "\n",
    "sub.head()"
   ]
  },
  {
   "cell_type": "markdown",
   "id": "5c0b6b48",
   "metadata": {
    "papermill": {
     "duration": 0.03527,
     "end_time": "2022-04-16T17:13:54.622632",
     "exception": false,
     "start_time": "2022-04-16T17:13:54.587362",
     "status": "completed"
    },
    "tags": []
   },
   "source": [
    "Done ! "
   ]
  }
 ],
 "metadata": {
  "kernelspec": {
   "display_name": "Python 3",
   "language": "python",
   "name": "python3"
  },
  "language_info": {
   "codemirror_mode": {
    "name": "ipython",
    "version": 3
   },
   "file_extension": ".py",
   "mimetype": "text/x-python",
   "name": "python",
   "nbconvert_exporter": "python",
   "pygments_lexer": "ipython3",
   "version": "3.7.12"
  },
  "papermill": {
   "default_parameters": {},
   "duration": 60.465804,
   "end_time": "2022-04-16T17:13:58.350866",
   "environment_variables": {},
   "exception": null,
   "input_path": "__notebook__.ipynb",
   "output_path": "__notebook__.ipynb",
   "parameters": {},
   "start_time": "2022-04-16T17:12:57.885062",
   "version": "2.3.3"
  },
  "widgets": {
   "application/vnd.jupyter.widget-state+json": {
    "state": {
     "125fbb0f37a542089d12d053b9ebbe10": {
      "model_module": "@jupyter-widgets/controls",
      "model_module_version": "1.5.0",
      "model_name": "HBoxModel",
      "state": {
       "_dom_classes": [],
       "_model_module": "@jupyter-widgets/controls",
       "_model_module_version": "1.5.0",
       "_model_name": "HBoxModel",
       "_view_count": null,
       "_view_module": "@jupyter-widgets/controls",
       "_view_module_version": "1.5.0",
       "_view_name": "HBoxView",
       "box_style": "",
       "children": [
        "IPY_MODEL_3dee5b55063e42c68e3fbdb4b7a27dd5",
        "IPY_MODEL_4a75b66499ac4f70afda29722929756f",
        "IPY_MODEL_e33bcb28dfa141c1b1a54d2a49886dd9"
       ],
       "layout": "IPY_MODEL_1edc84fc39a64f2e84dc0fddd4b0c401"
      }
     },
     "1edc84fc39a64f2e84dc0fddd4b0c401": {
      "model_module": "@jupyter-widgets/base",
      "model_module_version": "1.2.0",
      "model_name": "LayoutModel",
      "state": {
       "_model_module": "@jupyter-widgets/base",
       "_model_module_version": "1.2.0",
       "_model_name": "LayoutModel",
       "_view_count": null,
       "_view_module": "@jupyter-widgets/base",
       "_view_module_version": "1.2.0",
       "_view_name": "LayoutView",
       "align_content": null,
       "align_items": null,
       "align_self": null,
       "border": null,
       "bottom": null,
       "display": null,
       "flex": null,
       "flex_flow": null,
       "grid_area": null,
       "grid_auto_columns": null,
       "grid_auto_flow": null,
       "grid_auto_rows": null,
       "grid_column": null,
       "grid_gap": null,
       "grid_row": null,
       "grid_template_areas": null,
       "grid_template_columns": null,
       "grid_template_rows": null,
       "height": null,
       "justify_content": null,
       "justify_items": null,
       "left": null,
       "margin": null,
       "max_height": null,
       "max_width": null,
       "min_height": null,
       "min_width": null,
       "object_fit": null,
       "object_position": null,
       "order": null,
       "overflow": null,
       "overflow_x": null,
       "overflow_y": null,
       "padding": null,
       "right": null,
       "top": null,
       "visibility": null,
       "width": null
      }
     },
     "29566047028648bda0f9925e8ed9bff5": {
      "model_module": "@jupyter-widgets/base",
      "model_module_version": "1.2.0",
      "model_name": "LayoutModel",
      "state": {
       "_model_module": "@jupyter-widgets/base",
       "_model_module_version": "1.2.0",
       "_model_name": "LayoutModel",
       "_view_count": null,
       "_view_module": "@jupyter-widgets/base",
       "_view_module_version": "1.2.0",
       "_view_name": "LayoutView",
       "align_content": null,
       "align_items": null,
       "align_self": null,
       "border": null,
       "bottom": null,
       "display": null,
       "flex": null,
       "flex_flow": null,
       "grid_area": null,
       "grid_auto_columns": null,
       "grid_auto_flow": null,
       "grid_auto_rows": null,
       "grid_column": null,
       "grid_gap": null,
       "grid_row": null,
       "grid_template_areas": null,
       "grid_template_columns": null,
       "grid_template_rows": null,
       "height": null,
       "justify_content": null,
       "justify_items": null,
       "left": null,
       "margin": null,
       "max_height": null,
       "max_width": null,
       "min_height": null,
       "min_width": null,
       "object_fit": null,
       "object_position": null,
       "order": null,
       "overflow": null,
       "overflow_x": null,
       "overflow_y": null,
       "padding": null,
       "right": null,
       "top": null,
       "visibility": null,
       "width": null
      }
     },
     "3dee5b55063e42c68e3fbdb4b7a27dd5": {
      "model_module": "@jupyter-widgets/controls",
      "model_module_version": "1.5.0",
      "model_name": "HTMLModel",
      "state": {
       "_dom_classes": [],
       "_model_module": "@jupyter-widgets/controls",
       "_model_module_version": "1.5.0",
       "_model_name": "HTMLModel",
       "_view_count": null,
       "_view_module": "@jupyter-widgets/controls",
       "_view_module_version": "1.5.0",
       "_view_name": "HTMLView",
       "description": "",
       "description_tooltip": null,
       "layout": "IPY_MODEL_835dc3820d0141088316f2d211d08e27",
       "placeholder": "​",
       "style": "IPY_MODEL_bc9ca6d931814fb2b20537bbebce6d8a",
       "value": "100%"
      }
     },
     "4a75b66499ac4f70afda29722929756f": {
      "model_module": "@jupyter-widgets/controls",
      "model_module_version": "1.5.0",
      "model_name": "FloatProgressModel",
      "state": {
       "_dom_classes": [],
       "_model_module": "@jupyter-widgets/controls",
       "_model_module_version": "1.5.0",
       "_model_name": "FloatProgressModel",
       "_view_count": null,
       "_view_module": "@jupyter-widgets/controls",
       "_view_module_version": "1.5.0",
       "_view_name": "ProgressView",
       "bar_style": "success",
       "description": "",
       "description_tooltip": null,
       "layout": "IPY_MODEL_f6ba2fb5a4864803842a72c3df1f3a91",
       "max": 1.0,
       "min": 0.0,
       "orientation": "horizontal",
       "style": "IPY_MODEL_831822a2ca1342bb83462806706a39ad",
       "value": 1.0
      }
     },
     "831822a2ca1342bb83462806706a39ad": {
      "model_module": "@jupyter-widgets/controls",
      "model_module_version": "1.5.0",
      "model_name": "ProgressStyleModel",
      "state": {
       "_model_module": "@jupyter-widgets/controls",
       "_model_module_version": "1.5.0",
       "_model_name": "ProgressStyleModel",
       "_view_count": null,
       "_view_module": "@jupyter-widgets/base",
       "_view_module_version": "1.2.0",
       "_view_name": "StyleView",
       "bar_color": null,
       "description_width": ""
      }
     },
     "835dc3820d0141088316f2d211d08e27": {
      "model_module": "@jupyter-widgets/base",
      "model_module_version": "1.2.0",
      "model_name": "LayoutModel",
      "state": {
       "_model_module": "@jupyter-widgets/base",
       "_model_module_version": "1.2.0",
       "_model_name": "LayoutModel",
       "_view_count": null,
       "_view_module": "@jupyter-widgets/base",
       "_view_module_version": "1.2.0",
       "_view_name": "LayoutView",
       "align_content": null,
       "align_items": null,
       "align_self": null,
       "border": null,
       "bottom": null,
       "display": null,
       "flex": null,
       "flex_flow": null,
       "grid_area": null,
       "grid_auto_columns": null,
       "grid_auto_flow": null,
       "grid_auto_rows": null,
       "grid_column": null,
       "grid_gap": null,
       "grid_row": null,
       "grid_template_areas": null,
       "grid_template_columns": null,
       "grid_template_rows": null,
       "height": null,
       "justify_content": null,
       "justify_items": null,
       "left": null,
       "margin": null,
       "max_height": null,
       "max_width": null,
       "min_height": null,
       "min_width": null,
       "object_fit": null,
       "object_position": null,
       "order": null,
       "overflow": null,
       "overflow_x": null,
       "overflow_y": null,
       "padding": null,
       "right": null,
       "top": null,
       "visibility": null,
       "width": null
      }
     },
     "a2fb1594083947438e397779e023b7d6": {
      "model_module": "@jupyter-widgets/controls",
      "model_module_version": "1.5.0",
      "model_name": "DescriptionStyleModel",
      "state": {
       "_model_module": "@jupyter-widgets/controls",
       "_model_module_version": "1.5.0",
       "_model_name": "DescriptionStyleModel",
       "_view_count": null,
       "_view_module": "@jupyter-widgets/base",
       "_view_module_version": "1.2.0",
       "_view_name": "StyleView",
       "description_width": ""
      }
     },
     "bc9ca6d931814fb2b20537bbebce6d8a": {
      "model_module": "@jupyter-widgets/controls",
      "model_module_version": "1.5.0",
      "model_name": "DescriptionStyleModel",
      "state": {
       "_model_module": "@jupyter-widgets/controls",
       "_model_module_version": "1.5.0",
       "_model_name": "DescriptionStyleModel",
       "_view_count": null,
       "_view_module": "@jupyter-widgets/base",
       "_view_module_version": "1.2.0",
       "_view_name": "StyleView",
       "description_width": ""
      }
     },
     "e33bcb28dfa141c1b1a54d2a49886dd9": {
      "model_module": "@jupyter-widgets/controls",
      "model_module_version": "1.5.0",
      "model_name": "HTMLModel",
      "state": {
       "_dom_classes": [],
       "_model_module": "@jupyter-widgets/controls",
       "_model_module_version": "1.5.0",
       "_model_name": "HTMLModel",
       "_view_count": null,
       "_view_module": "@jupyter-widgets/controls",
       "_view_module_version": "1.5.0",
       "_view_name": "HTMLView",
       "description": "",
       "description_tooltip": null,
       "layout": "IPY_MODEL_29566047028648bda0f9925e8ed9bff5",
       "placeholder": "​",
       "style": "IPY_MODEL_a2fb1594083947438e397779e023b7d6",
       "value": " 1/1 [00:01&lt;00:00,  1.50s/it]"
      }
     },
     "f6ba2fb5a4864803842a72c3df1f3a91": {
      "model_module": "@jupyter-widgets/base",
      "model_module_version": "1.2.0",
      "model_name": "LayoutModel",
      "state": {
       "_model_module": "@jupyter-widgets/base",
       "_model_module_version": "1.2.0",
       "_model_name": "LayoutModel",
       "_view_count": null,
       "_view_module": "@jupyter-widgets/base",
       "_view_module_version": "1.2.0",
       "_view_name": "LayoutView",
       "align_content": null,
       "align_items": null,
       "align_self": null,
       "border": null,
       "bottom": null,
       "display": null,
       "flex": null,
       "flex_flow": null,
       "grid_area": null,
       "grid_auto_columns": null,
       "grid_auto_flow": null,
       "grid_auto_rows": null,
       "grid_column": null,
       "grid_gap": null,
       "grid_row": null,
       "grid_template_areas": null,
       "grid_template_columns": null,
       "grid_template_rows": null,
       "height": null,
       "justify_content": null,
       "justify_items": null,
       "left": null,
       "margin": null,
       "max_height": null,
       "max_width": null,
       "min_height": null,
       "min_width": null,
       "object_fit": null,
       "object_position": null,
       "order": null,
       "overflow": null,
       "overflow_x": null,
       "overflow_y": null,
       "padding": null,
       "right": null,
       "top": null,
       "visibility": null,
       "width": null
      }
     }
    },
    "version_major": 2,
    "version_minor": 0
   }
  }
 },
 "nbformat": 4,
 "nbformat_minor": 5
}
